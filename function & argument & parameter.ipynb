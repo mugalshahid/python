{
 "cells": [
  {
   "cell_type": "code",
   "execution_count": null,
   "id": "0cbe9771-8b57-443b-b456-b52f52b92a21",
   "metadata": {},
   "outputs": [],
   "source": [
    "# Function in python\n",
    "# Function is a reusable block of code\n"
   ]
  },
  {
   "cell_type": "code",
   "execution_count": null,
   "id": "52ae51b4-8f9e-4b9b-a9bb-1550a7cfee4f",
   "metadata": {},
   "outputs": [],
   "source": [
    "# Types of funnction\n",
    "# 1. pre-defined"
   ]
  },
  {
   "cell_type": "code",
   "execution_count": null,
   "id": "1ac31abc-143d-4767-8bee-98c6a2f83f4e",
   "metadata": {},
   "outputs": [],
   "source": [
    "## syntax\n",
    "# def Name_of_function():\n",
    "#   logic\n",
    "# Name_of_function()"
   ]
  },
  {
   "cell_type": "code",
   "execution_count": 2,
   "id": "5db36a95-86af-4c61-85f8-520c49783192",
   "metadata": {},
   "outputs": [
    {
     "name": "stdout",
     "output_type": "stream",
     "text": [
      "toatl 14\n"
     ]
    }
   ],
   "source": [
    "# Q. CREATE A FUNCTION WHO ADD SUM OF SQUARE OF A GIVEN NUM\n",
    "\n",
    "i = 1\n",
    "d = 3\n",
    "sum = 0\n",
    "while(i<=d):\n",
    "    sum = sum + i**2\n",
    "    i+=1\n",
    "print(\"toatl\" ,sum)"
   ]
  },
  {
   "cell_type": "code",
   "execution_count": 3,
   "id": "20248523-fd47-49c8-920b-999f3b11132d",
   "metadata": {},
   "outputs": [
    {
     "name": "stdout",
     "output_type": "stream",
     "text": [
      "toatl 14\n"
     ]
    }
   ],
   "source": [
    "def my_squ():\n",
    "    i = 1\n",
    "    d = 3\n",
    "    sum = 0\n",
    "    while(i<=d):\n",
    "        sum = sum + i**2\n",
    "        i+=1\n",
    "    print(\"toatl\" ,sum)\n",
    "my_squ()"
   ]
  },
  {
   "cell_type": "code",
   "execution_count": 4,
   "id": "da810ff7-2972-4196-afe7-12ffd5b68abc",
   "metadata": {},
   "outputs": [
    {
     "name": "stdout",
     "output_type": "stream",
     "text": [
      "toatl 10\n"
     ]
    }
   ],
   "source": [
    "i = 1234\n",
    "sum = 0\n",
    "while(i>0):\n",
    "    d = i%10\n",
    "    sum = sum + d\n",
    "    i//=10\n",
    "print(\"toatl\" ,sum)"
   ]
  },
  {
   "cell_type": "code",
   "execution_count": 6,
   "id": "53f72871-24c7-4c7c-9c41-9a99cb6bdbd6",
   "metadata": {},
   "outputs": [
    {
     "name": "stdin",
     "output_type": "stream",
     "text": [
      "Enter the num  1234\n"
     ]
    },
    {
     "name": "stdout",
     "output_type": "stream",
     "text": [
      "toatl 10\n"
     ]
    }
   ],
   "source": [
    "# Q. Create a funtion\n",
    "\n",
    "def my_add():\n",
    "    i = int(input(\"Enter the num \"))\n",
    "    sum = 0\n",
    "    while(i>0):\n",
    "        d = i%10\n",
    "        sum = sum + d\n",
    "        i//=10\n",
    "    print(\"toatl\" ,sum)\n",
    "my_add()"
   ]
  },
  {
   "cell_type": "code",
   "execution_count": null,
   "id": "57351b75-b861-4a01-af1c-8754d68ba8a5",
   "metadata": {},
   "outputs": [],
   "source": [
    "# Arguments and Parameters\n",
    "\n",
    "# parameters => these are a values which we passes when we create a function\n",
    "# Arguments => these are a values which we passes when we call a function"
   ]
  },
  {
   "cell_type": "code",
   "execution_count": 7,
   "id": "4579d1db-f7fe-42a6-b9b6-769e5dff5a4e",
   "metadata": {},
   "outputs": [
    {
     "name": "stdout",
     "output_type": "stream",
     "text": [
      "total  7\n"
     ]
    }
   ],
   "source": [
    "def my_add(a,b):\n",
    "    c = a + b\n",
    "    print(\"total \",c)\n",
    "my_add(3,4)"
   ]
  },
  {
   "cell_type": "code",
   "execution_count": 9,
   "id": "42f2d2ef-5bc2-4870-a775-552a1424bfab",
   "metadata": {},
   "outputs": [
    {
     "name": "stdin",
     "output_type": "stream",
     "text": [
      "Enter num  34\n"
     ]
    },
    {
     "name": "stdout",
     "output_type": "stream",
     "text": [
      "Even num..\n"
     ]
    }
   ],
   "source": [
    "# Q. \n",
    "\n",
    "def oddeve():\n",
    "    i = int(input(\"Enter num \"))\n",
    "    if(i%2==0):\n",
    "        print(\"Even num..\")\n",
    "    else:\n",
    "        print(\"odd num..\")\n",
    "oddeve()"
   ]
  },
  {
   "cell_type": "code",
   "execution_count": 10,
   "id": "54478e26-e7ae-4a07-a557-705244b6a462",
   "metadata": {},
   "outputs": [
    {
     "name": "stdin",
     "output_type": "stream",
     "text": [
      "Enter num  45\n"
     ]
    },
    {
     "name": "stdout",
     "output_type": "stream",
     "text": [
      "odd num..\n"
     ]
    }
   ],
   "source": [
    "def oddeve(a):\n",
    "    if(a%2==0):\n",
    "        print(\"Even num..\")\n",
    "    else:\n",
    "        print(\"odd num..\")\n",
    "i = int(input(\"Enter num \"))\n",
    "oddeve(i)"
   ]
  },
  {
   "cell_type": "code",
   "execution_count": null,
   "id": "3294721f-556e-442e-9a63-9f084d4f4992",
   "metadata": {},
   "outputs": [],
   "source": []
  }
 ],
 "metadata": {
  "kernelspec": {
   "display_name": "Python 3 (ipykernel)",
   "language": "python",
   "name": "python3"
  },
  "language_info": {
   "codemirror_mode": {
    "name": "ipython",
    "version": 3
   },
   "file_extension": ".py",
   "mimetype": "text/x-python",
   "name": "python",
   "nbconvert_exporter": "python",
   "pygments_lexer": "ipython3",
   "version": "3.13.3"
  }
 },
 "nbformat": 4,
 "nbformat_minor": 5
}
