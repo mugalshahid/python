{
  "cells": [
    {
      "cell_type": "code",
      "execution_count": null,
      "id": "856cb2a3",
      "metadata": {
        "id": "856cb2a3"
      },
      "outputs": [],
      "source": [
        "import numpy as np"
      ]
    },
    {
      "cell_type": "code",
      "source": [
        "# Operations in Numpy"
      ],
      "metadata": {
        "id": "ZhWVrYx70Lgo"
      },
      "id": "ZhWVrYx70Lgo",
      "execution_count": null,
      "outputs": []
    },
    {
      "cell_type": "code",
      "execution_count": null,
      "id": "744c67f3",
      "metadata": {
        "id": "744c67f3",
        "outputId": "165130b9-6010-4138-97aa-c1eb3bfd2c0a"
      },
      "outputs": [
        {
          "data": {
            "text/plain": [
              "array([ 1,  2,  3,  4,  5,  6,  7,  8,  9, 10, 11, 12, 13, 14, 15])"
            ]
          },
          "execution_count": 4,
          "metadata": {},
          "output_type": "execute_result"
        }
      ],
      "source": [
        "a = np.arange(1,16,1)\n",
        "a"
      ]
    },
    {
      "cell_type": "code",
      "execution_count": null,
      "id": "41793ec6",
      "metadata": {
        "id": "41793ec6",
        "outputId": "462128c4-b8e4-4dc6-d461-a947f2c23822"
      },
      "outputs": [
        {
          "data": {
            "text/plain": [
              "array([False, False, False, False, False, False, False, False, False,\n",
              "       False,  True,  True,  True,  True,  True])"
            ]
          },
          "execution_count": 5,
          "metadata": {},
          "output_type": "execute_result"
        }
      ],
      "source": [
        "a>10"
      ]
    },
    {
      "cell_type": "code",
      "execution_count": null,
      "id": "1cabc971",
      "metadata": {
        "id": "1cabc971",
        "outputId": "dbc4c034-3675-475d-da5d-3c811a780cf9"
      },
      "outputs": [
        {
          "data": {
            "text/plain": [
              "array([11, 12, 13, 14, 15])"
            ]
          },
          "execution_count": 7,
          "metadata": {},
          "output_type": "execute_result"
        }
      ],
      "source": [
        "b = a>10\n",
        "a[b]"
      ]
    },
    {
      "cell_type": "code",
      "execution_count": null,
      "id": "d263cc75",
      "metadata": {
        "id": "d263cc75",
        "outputId": "18c0233a-364f-41ea-becc-aa2e0c3a621a"
      },
      "outputs": [
        {
          "data": {
            "text/plain": [
              "array([ 2,  4,  6,  8, 10, 12, 14])"
            ]
          },
          "execution_count": 9,
          "metadata": {},
          "output_type": "execute_result"
        }
      ],
      "source": [
        "a[a%2==0]"
      ]
    },
    {
      "cell_type": "code",
      "execution_count": null,
      "id": "e662a041",
      "metadata": {
        "id": "e662a041",
        "outputId": "675dbba5-9034-4c1d-d68a-9528d5c4a7bc"
      },
      "outputs": [
        {
          "data": {
            "text/plain": [
              "array([ 1,  3,  5,  7,  9, 11, 13, 15])"
            ]
          },
          "execution_count": 10,
          "metadata": {},
          "output_type": "execute_result"
        }
      ],
      "source": [
        "a[a%2!=0]"
      ]
    },
    {
      "cell_type": "code",
      "execution_count": null,
      "id": "eeaa2296",
      "metadata": {
        "id": "eeaa2296",
        "outputId": "9ae1f3f7-fa24-4ad7-ced2-c9b79f9777bc"
      },
      "outputs": [
        {
          "data": {
            "text/plain": [
              "array([1, 2, 3, 4])"
            ]
          },
          "execution_count": 11,
          "metadata": {},
          "output_type": "execute_result"
        }
      ],
      "source": [
        "a = np.arange(1,5)\n",
        "a"
      ]
    },
    {
      "cell_type": "code",
      "source": [
        "# Reshaping the Array"
      ],
      "metadata": {
        "id": "TQ0CZPle0bBR"
      },
      "id": "TQ0CZPle0bBR",
      "execution_count": null,
      "outputs": []
    },
    {
      "cell_type": "code",
      "execution_count": null,
      "id": "41e8d921",
      "metadata": {
        "id": "41e8d921",
        "outputId": "8b06faa3-5035-4a19-d34d-39ce9785f309"
      },
      "outputs": [
        {
          "data": {
            "text/plain": [
              "array([ 1,  2,  3,  4,  5,  6,  7,  8,  9, 10, 11, 12])"
            ]
          },
          "execution_count": 19,
          "metadata": {},
          "output_type": "execute_result"
        }
      ],
      "source": [
        "a = np.arange(1,13)\n",
        "a"
      ]
    },
    {
      "cell_type": "code",
      "execution_count": null,
      "id": "c7d806f0",
      "metadata": {
        "id": "c7d806f0",
        "outputId": "c25ebfbc-4e59-46b1-c0a1-e9b91467afc8"
      },
      "outputs": [
        {
          "data": {
            "text/plain": [
              "(12,)"
            ]
          },
          "execution_count": 20,
          "metadata": {},
          "output_type": "execute_result"
        }
      ],
      "source": [
        "a.shape"
      ]
    },
    {
      "cell_type": "code",
      "execution_count": null,
      "id": "362e650c",
      "metadata": {
        "id": "362e650c"
      },
      "outputs": [],
      "source": [
        "# 1*12 , 12*1\n",
        "# 2*6 , 6*2\n",
        "# 3*4 , 4*3"
      ]
    },
    {
      "cell_type": "code",
      "execution_count": null,
      "id": "d9608122",
      "metadata": {
        "id": "d9608122",
        "outputId": "37d6cdbf-c484-453c-fb92-f67f9dd9417a"
      },
      "outputs": [
        {
          "data": {
            "text/plain": [
              "array([[ 1,  2,  3,  4,  5,  6],\n",
              "       [ 7,  8,  9, 10, 11, 12]])"
            ]
          },
          "execution_count": 22,
          "metadata": {},
          "output_type": "execute_result"
        }
      ],
      "source": [
        "a.reshape(2,6)"
      ]
    },
    {
      "cell_type": "code",
      "execution_count": null,
      "id": "f536f296",
      "metadata": {
        "id": "f536f296",
        "outputId": "97c25915-62fe-4d22-b648-0fa25b213e20"
      },
      "outputs": [
        {
          "data": {
            "text/plain": [
              "array([[ 1,  2,  3,  4],\n",
              "       [ 5,  6,  7,  8],\n",
              "       [ 9, 10, 11, 12]])"
            ]
          },
          "execution_count": 23,
          "metadata": {},
          "output_type": "execute_result"
        }
      ],
      "source": [
        "a.reshape(3,4)"
      ]
    },
    {
      "cell_type": "code",
      "execution_count": null,
      "id": "45132c2b",
      "metadata": {
        "id": "45132c2b",
        "outputId": "382cb1d6-8473-4fd0-d5b8-a32fca1fca2c"
      },
      "outputs": [
        {
          "data": {
            "text/plain": [
              "array([[ 1,  2,  3],\n",
              "       [ 4,  5,  6],\n",
              "       [ 7,  8,  9],\n",
              "       [10, 11, 12]])"
            ]
          },
          "execution_count": 24,
          "metadata": {},
          "output_type": "execute_result"
        }
      ],
      "source": [
        "a.reshape(4,3)"
      ]
    },
    {
      "cell_type": "code",
      "execution_count": null,
      "id": "499184fc",
      "metadata": {
        "id": "499184fc",
        "outputId": "ca8321f4-0222-47bb-c409-5e68fd4fb363"
      },
      "outputs": [
        {
          "ename": "ValueError",
          "evalue": "cannot reshape array of size 12 into shape (5,3)",
          "output_type": "error",
          "traceback": [
            "\u001b[1;31m---------------------------------------------------------------------------\u001b[0m",
            "\u001b[1;31mValueError\u001b[0m                                Traceback (most recent call last)",
            "Input \u001b[1;32mIn [25]\u001b[0m, in \u001b[0;36m<cell line: 1>\u001b[1;34m()\u001b[0m\n\u001b[1;32m----> 1\u001b[0m \u001b[43ma\u001b[49m\u001b[38;5;241;43m.\u001b[39;49m\u001b[43mreshape\u001b[49m\u001b[43m(\u001b[49m\u001b[38;5;241;43m5\u001b[39;49m\u001b[43m,\u001b[49m\u001b[38;5;241;43m3\u001b[39;49m\u001b[43m)\u001b[49m\n",
            "\u001b[1;31mValueError\u001b[0m: cannot reshape array of size 12 into shape (5,3)"
          ]
        }
      ],
      "source": [
        "a.reshape(5,3)"
      ]
    },
    {
      "cell_type": "code",
      "execution_count": null,
      "id": "e67e0244",
      "metadata": {
        "id": "e67e0244",
        "outputId": "420e384f-a574-4aa4-d380-c8c7b25290de"
      },
      "outputs": [
        {
          "data": {
            "text/plain": [
              "array([[1, 2],\n",
              "       [3, 4]])"
            ]
          },
          "execution_count": 29,
          "metadata": {},
          "output_type": "execute_result"
        }
      ],
      "source": [
        "a = np.arange(1,5).reshape(2,2)\n",
        "a"
      ]
    },
    {
      "cell_type": "code",
      "execution_count": null,
      "id": "b88d4dc5",
      "metadata": {
        "id": "b88d4dc5",
        "outputId": "17dbb406-262a-48c7-d821-c717d73a7195"
      },
      "outputs": [
        {
          "data": {
            "text/plain": [
              "array([[5, 6],\n",
              "       [7, 8]])"
            ]
          },
          "execution_count": 31,
          "metadata": {},
          "output_type": "execute_result"
        }
      ],
      "source": [
        "b = np.arange(5,9).reshape(2,2)\n",
        "b"
      ]
    },
    {
      "cell_type": "code",
      "execution_count": null,
      "id": "97cfa78e",
      "metadata": {
        "id": "97cfa78e",
        "outputId": "44ac0bf9-7c1d-429a-c903-4351cc1e9813"
      },
      "outputs": [
        {
          "data": {
            "text/plain": [
              "array([[ 6,  8],\n",
              "       [10, 12]])"
            ]
          },
          "execution_count": 32,
          "metadata": {},
          "output_type": "execute_result"
        }
      ],
      "source": [
        "a+b  ### (1+5 = 6 , 2+6 = 8 , 3+7=10 , 4+8 = 12)"
      ]
    },
    {
      "cell_type": "code",
      "execution_count": null,
      "id": "6d631b39",
      "metadata": {
        "id": "6d631b39",
        "outputId": "ba94ada4-fe97-4e30-ffe0-402ae9dcc94f"
      },
      "outputs": [
        {
          "data": {
            "text/plain": [
              "array([[-4, -4],\n",
              "       [-4, -4]])"
            ]
          },
          "execution_count": 33,
          "metadata": {},
          "output_type": "execute_result"
        }
      ],
      "source": [
        "a-b"
      ]
    },
    {
      "cell_type": "code",
      "execution_count": null,
      "id": "4879a4fb",
      "metadata": {
        "id": "4879a4fb",
        "outputId": "6327d4f8-7831-43a3-936b-98be2b8ee510"
      },
      "outputs": [
        {
          "data": {
            "text/plain": [
              "array([[ 5, 12],\n",
              "       [21, 32]])"
            ]
          },
          "execution_count": 34,
          "metadata": {},
          "output_type": "execute_result"
        }
      ],
      "source": [
        "a*b"
      ]
    },
    {
      "cell_type": "code",
      "execution_count": null,
      "id": "bebf2096",
      "metadata": {
        "id": "bebf2096",
        "outputId": "b9c5f49a-40ef-4247-8934-3592aa184f07"
      },
      "outputs": [
        {
          "data": {
            "text/plain": [
              "array([[19, 22],\n",
              "       [43, 50]])"
            ]
          },
          "execution_count": 35,
          "metadata": {},
          "output_type": "execute_result"
        }
      ],
      "source": [
        "a.dot(b)    ## for matrix multiplication"
      ]
    },
    {
      "cell_type": "code",
      "execution_count": null,
      "id": "d9a467ad",
      "metadata": {
        "id": "d9a467ad",
        "outputId": "de66700c-1a74-4259-d841-d89d52d03427"
      },
      "outputs": [
        {
          "data": {
            "text/plain": [
              "array([[0.2       , 0.33333333],\n",
              "       [0.42857143, 0.5       ]])"
            ]
          },
          "execution_count": 36,
          "metadata": {},
          "output_type": "execute_result"
        }
      ],
      "source": [
        "a/b"
      ]
    },
    {
      "cell_type": "code",
      "execution_count": null,
      "id": "e3db75a2",
      "metadata": {
        "id": "e3db75a2",
        "outputId": "012a9c5d-e863-4c9d-a4af-c4187a8257ac"
      },
      "outputs": [
        {
          "data": {
            "text/plain": [
              "array([[1, 2],\n",
              "       [3, 4]])"
            ]
          },
          "execution_count": 37,
          "metadata": {},
          "output_type": "execute_result"
        }
      ],
      "source": [
        "a"
      ]
    },
    {
      "cell_type": "code",
      "execution_count": null,
      "id": "a813ce82",
      "metadata": {
        "id": "a813ce82",
        "outputId": "4e646b52-341f-4e19-c2a2-93873779a1fb"
      },
      "outputs": [
        {
          "data": {
            "text/plain": [
              "array([[ 1,  4],\n",
              "       [ 9, 16]])"
            ]
          },
          "execution_count": 38,
          "metadata": {},
          "output_type": "execute_result"
        }
      ],
      "source": [
        "a**2"
      ]
    },
    {
      "cell_type": "code",
      "execution_count": null,
      "id": "3caaab33",
      "metadata": {
        "id": "3caaab33",
        "outputId": "e39d786b-30fa-4635-f680-e02bcf74d791"
      },
      "outputs": [
        {
          "data": {
            "text/plain": [
              "array([[ 1,  8],\n",
              "       [27, 64]], dtype=int32)"
            ]
          },
          "execution_count": 41,
          "metadata": {},
          "output_type": "execute_result"
        }
      ],
      "source": [
        "a**3"
      ]
    },
    {
      "cell_type": "code",
      "execution_count": null,
      "id": "e7f6ecfd",
      "metadata": {
        "id": "e7f6ecfd"
      },
      "outputs": [],
      "source": [
        "# LinSpace() ----> It will return same gap values in a given range ."
      ]
    },
    {
      "cell_type": "code",
      "execution_count": null,
      "id": "fa3e1f38",
      "metadata": {
        "id": "fa3e1f38",
        "outputId": "b6ec1e1c-0605-483b-efbd-48777571c735"
      },
      "outputs": [
        {
          "data": {
            "text/plain": [
              "array([1.  , 1.25, 1.5 , 1.75, 2.  ])"
            ]
          },
          "execution_count": 43,
          "metadata": {},
          "output_type": "execute_result"
        }
      ],
      "source": [
        "a = np.linspace(1,2,5)\n",
        "a"
      ]
    },
    {
      "cell_type": "code",
      "execution_count": null,
      "id": "f838befa",
      "metadata": {
        "id": "f838befa"
      },
      "outputs": [],
      "source": [
        "# 1.25-1 = 0.25\n",
        "# 1.5-1.25 = 0.25\n",
        "# 1.75-.1.50 = 0.25\n",
        "# 2-1.75 = 0.25"
      ]
    },
    {
      "cell_type": "code",
      "execution_count": null,
      "id": "5002def9",
      "metadata": {
        "id": "5002def9"
      },
      "outputs": [],
      "source": [
        "# unique() ----> It will provide an array in which it will return 3 array .\n",
        "# arr ---> return unique values\n",
        "# return_index = True ----> return indexing of unique values .\n",
        "# return_counts = True ----> return frequrncy of each unique values ."
      ]
    },
    {
      "cell_type": "code",
      "execution_count": null,
      "id": "e0932608",
      "metadata": {
        "id": "e0932608",
        "outputId": "a537fda8-c70c-48b8-deb6-f53f4586482c"
      },
      "outputs": [
        {
          "data": {
            "text/plain": [
              "array([1, 2, 3, 1, 1, 1, 2, 6, 7])"
            ]
          },
          "execution_count": 46,
          "metadata": {},
          "output_type": "execute_result"
        }
      ],
      "source": [
        "a = np.array([1,2,3,1,1,1,2,6,7])\n",
        "a"
      ]
    },
    {
      "cell_type": "code",
      "execution_count": null,
      "id": "53689a7d",
      "metadata": {
        "id": "53689a7d",
        "outputId": "14edf679-cec0-4f28-b931-36f1587c2a8a"
      },
      "outputs": [
        {
          "data": {
            "text/plain": [
              "(array([1, 2, 3, 6, 7]),\n",
              " array([0, 1, 2, 7, 8], dtype=int64),\n",
              " array([4, 2, 1, 1, 1], dtype=int64))"
            ]
          },
          "execution_count": 47,
          "metadata": {},
          "output_type": "execute_result"
        }
      ],
      "source": [
        "np.unique(a , return_index=True , return_counts=True)"
      ]
    },
    {
      "cell_type": "code",
      "execution_count": null,
      "id": "b57aaaf7",
      "metadata": {
        "id": "b57aaaf7",
        "outputId": "d4467b44-eb7a-4500-9113-54907ae4273c"
      },
      "outputs": [
        {
          "data": {
            "text/plain": [
              "array([[1, 2, 3],\n",
              "       [4, 5, 6],\n",
              "       [7, 8, 9]])"
            ]
          },
          "execution_count": 48,
          "metadata": {},
          "output_type": "execute_result"
        }
      ],
      "source": [
        "a = np.arange(1,10).reshape(3,3)\n",
        "a"
      ]
    },
    {
      "cell_type": "code",
      "execution_count": null,
      "id": "aad89ce2",
      "metadata": {
        "id": "aad89ce2",
        "outputId": "d4cb59d9-c0b6-4b1b-e750-4f4c6c036a17"
      },
      "outputs": [
        {
          "data": {
            "text/plain": [
              "45"
            ]
          },
          "execution_count": 49,
          "metadata": {},
          "output_type": "execute_result"
        }
      ],
      "source": [
        "np.sum(a)"
      ]
    },
    {
      "cell_type": "code",
      "execution_count": null,
      "id": "bade95dd",
      "metadata": {
        "id": "bade95dd",
        "outputId": "2efe827d-3efb-4e6e-a2f2-283afb5e07d0"
      },
      "outputs": [
        {
          "data": {
            "text/plain": [
              "45"
            ]
          },
          "execution_count": 50,
          "metadata": {},
          "output_type": "execute_result"
        }
      ],
      "source": [
        "1+2+3+4+5+6+7+8+9"
      ]
    },
    {
      "cell_type": "code",
      "execution_count": null,
      "id": "e6f8981e",
      "metadata": {
        "id": "e6f8981e",
        "outputId": "0f795628-bf6d-4c2e-dc2f-e145f2b0462b"
      },
      "outputs": [
        {
          "data": {
            "text/plain": [
              "array([12, 15, 18])"
            ]
          },
          "execution_count": 51,
          "metadata": {},
          "output_type": "execute_result"
        }
      ],
      "source": [
        "np.sum(a , axis = 0)   ### returns column wise sum"
      ]
    },
    {
      "cell_type": "code",
      "execution_count": null,
      "id": "88125def",
      "metadata": {
        "id": "88125def",
        "outputId": "26e63af3-e29a-4aac-8f34-ca5831461a30"
      },
      "outputs": [
        {
          "data": {
            "text/plain": [
              "array([ 6, 15, 24])"
            ]
          },
          "execution_count": 52,
          "metadata": {},
          "output_type": "execute_result"
        }
      ],
      "source": [
        "np.sum(a , axis = 1)   ### return row wise sum"
      ]
    },
    {
      "cell_type": "code",
      "source": [
        "# Hstack vs Vstack"
      ],
      "metadata": {
        "id": "3BrwcQ_D0lM6"
      },
      "id": "3BrwcQ_D0lM6",
      "execution_count": null,
      "outputs": []
    },
    {
      "cell_type": "code",
      "execution_count": null,
      "id": "065351f4",
      "metadata": {
        "id": "065351f4"
      },
      "outputs": [],
      "source": [
        "a = np.arange(1,5)\n",
        "b = np.arange(5,9)\n",
        "c = np.arange(9,13)"
      ]
    },
    {
      "cell_type": "code",
      "execution_count": null,
      "id": "53b6b7ae",
      "metadata": {
        "id": "53b6b7ae",
        "outputId": "d2de068c-3eb8-4b8c-faf9-7cd65b3ceffd"
      },
      "outputs": [
        {
          "data": {
            "text/plain": [
              "array([ 1,  2,  3,  4,  5,  6,  7,  8,  9, 10, 11, 12])"
            ]
          },
          "execution_count": 55,
          "metadata": {},
          "output_type": "execute_result"
        }
      ],
      "source": [
        "np.hstack((a,b,c))"
      ]
    },
    {
      "cell_type": "code",
      "execution_count": null,
      "id": "de0c5c59",
      "metadata": {
        "id": "de0c5c59",
        "outputId": "96c8bc72-ae04-4277-89a4-9383a3935139"
      },
      "outputs": [
        {
          "data": {
            "text/plain": [
              "array([[ 1,  2,  3,  4],\n",
              "       [ 5,  6,  7,  8],\n",
              "       [ 9, 10, 11, 12]])"
            ]
          },
          "execution_count": 56,
          "metadata": {},
          "output_type": "execute_result"
        }
      ],
      "source": [
        "np.vstack((a,b,c))"
      ]
    },
    {
      "cell_type": "code",
      "execution_count": null,
      "id": "4e38a2fa",
      "metadata": {
        "id": "4e38a2fa",
        "outputId": "fe598800-2a28-4b00-ed5a-3765bd97b734"
      },
      "outputs": [
        {
          "data": {
            "text/plain": [
              "array([1, 2, 3, 4])"
            ]
          },
          "execution_count": 57,
          "metadata": {},
          "output_type": "execute_result"
        }
      ],
      "source": [
        "a = np.arange(1,5)\n",
        "a"
      ]
    },
    {
      "cell_type": "code",
      "execution_count": null,
      "id": "0f61847d",
      "metadata": {
        "id": "0f61847d",
        "outputId": "edf1202d-1ad8-476f-d70a-cf12ccce4008"
      },
      "outputs": [
        {
          "data": {
            "text/plain": [
              "array([1.        , 1.41421356, 1.73205081, 2.        ])"
            ]
          },
          "execution_count": 58,
          "metadata": {},
          "output_type": "execute_result"
        }
      ],
      "source": [
        "np.sqrt(a)"
      ]
    },
    {
      "cell_type": "code",
      "execution_count": null,
      "id": "a7bb866b",
      "metadata": {
        "id": "a7bb866b",
        "outputId": "39cc0d97-c111-4ed6-93e2-34ec886c3458"
      },
      "outputs": [
        {
          "data": {
            "text/plain": [
              "array([ 0.84147098,  0.90929743,  0.14112001, -0.7568025 ])"
            ]
          },
          "execution_count": 59,
          "metadata": {},
          "output_type": "execute_result"
        }
      ],
      "source": [
        "np.sin(a)"
      ]
    },
    {
      "cell_type": "code",
      "execution_count": null,
      "id": "45d416d2",
      "metadata": {
        "id": "45d416d2",
        "outputId": "fca38982-41ef-4691-d8c3-e6f0fa1a9b16"
      },
      "outputs": [
        {
          "data": {
            "text/plain": [
              "array([ 0.54030231, -0.41614684, -0.9899925 , -0.65364362])"
            ]
          },
          "execution_count": 60,
          "metadata": {},
          "output_type": "execute_result"
        }
      ],
      "source": [
        "np.cos(a)"
      ]
    },
    {
      "cell_type": "code",
      "execution_count": null,
      "id": "b9db9e1f",
      "metadata": {
        "id": "b9db9e1f"
      },
      "outputs": [],
      "source": []
    }
  ],
  "metadata": {
    "kernelspec": {
      "display_name": "Python 3 (ipykernel)",
      "language": "python",
      "name": "python3"
    },
    "language_info": {
      "codemirror_mode": {
        "name": "ipython",
        "version": 3
      },
      "file_extension": ".py",
      "mimetype": "text/x-python",
      "name": "python",
      "nbconvert_exporter": "python",
      "pygments_lexer": "ipython3",
      "version": "3.9.12"
    },
    "colab": {
      "provenance": []
    }
  },
  "nbformat": 4,
  "nbformat_minor": 5
}