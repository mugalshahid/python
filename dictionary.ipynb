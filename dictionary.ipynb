{
 "cells": [
  {
   "cell_type": "code",
   "execution_count": 7,
   "id": "9d18d1ab-8790-46fe-9288-8a0c684a4bff",
   "metadata": {},
   "outputs": [
    {
     "name": "stdout",
     "output_type": "stream",
     "text": [
      "        *  \n",
      "      * *  \n",
      "    *   *  \n",
      "  *     *  \n",
      "* * * * *  \n"
     ]
    }
   ],
   "source": [
    "for i in range(1,6):\n",
    "    for j in range(1,6-i):\n",
    "        print(\" \",end=\" \")\n",
    "    for k in range(1,i+1):\n",
    "        if(k==i or i==5 or k==1):\n",
    "            print(\"*\",end=\" \")\n",
    "        else:\n",
    "            print(\" \",end=\" \")\n",
    "    print(\" \")        "
   ]
  },
  {
   "cell_type": "code",
   "execution_count": 63,
   "id": "d4f946a2-3e23-4326-a298-d85b8bc303ff",
   "metadata": {},
   "outputs": [
    {
     "name": "stdout",
     "output_type": "stream",
     "text": [
      "* * * * * * *  \n",
      "  *       *  \n",
      "    *   *  \n",
      "      *  \n"
     ]
    }
   ],
   "source": [
    "for i in range(1,5):\n",
    "    for j in range(1,i):\n",
    "        print(\" \",end=\" \")\n",
    "    for k in range(1,10-(2*i)):\n",
    "        if(k==1 or i==1 or k==9-2*i):\n",
    "            print(\"*\",end=\" \")\n",
    "        else:\n",
    "            print(\" \",end=\" \")\n",
    "    print(\" \")"
   ]
  },
  {
   "cell_type": "code",
   "execution_count": 6,
   "id": "6ad027bc-24ac-4f95-bd5f-9c5ee6b994c4",
   "metadata": {},
   "outputs": [
    {
     "name": "stdout",
     "output_type": "stream",
     "text": [
      "{10: 'aman', 11: 'isha'}\n"
     ]
    }
   ],
   "source": [
    "myname = {10:'aman'}\n",
    "myname[11] = 'isha'\n",
    "print(myname)\n"
   ]
  },
  {
   "cell_type": "code",
   "execution_count": 4,
   "id": "3b8762a5-c17e-4b82-802c-ee9e231edbc8",
   "metadata": {},
   "outputs": [
    {
     "name": "stdout",
     "output_type": "stream",
     "text": [
      "2 7\n",
      "7 2\n"
     ]
    }
   ],
   "source": [
    "myname = {10:'aman'}\n",
    "myname[11] = 'isha'\n",
    "\n",
    "print(myname)"
   ]
  },
  {
   "cell_type": "code",
   "execution_count": 8,
   "id": "0191394b-c1ad-4516-8556-8ffc09461591",
   "metadata": {},
   "outputs": [
    {
     "name": "stdout",
     "output_type": "stream",
     "text": [
      "2 7\n",
      "7 2\n"
     ]
    }
   ],
   "source": [
    "mylist = [1,2,4,7,11,19]\n",
    "target = 9\n",
    "for x in mylist:\n",
    "    if(target - x in mylist):\n",
    "        print(x,target-x)"
   ]
  },
  {
   "cell_type": "code",
   "execution_count": 7,
   "id": "a33e2bb5-50cb-476b-885b-73abd5d45eb4",
   "metadata": {},
   "outputs": [
    {
     "name": "stdout",
     "output_type": "stream",
     "text": [
      "{1: 0, 2: 1, 4: 2, 7: 3, 11: 4, 19: 5}\n"
     ]
    }
   ],
   "source": [
    "mylist = [1,2,4,7,11,19]\n",
    "dic = {}\n",
    "for i in range(0,len(mylist)):\n",
    "    dic[mylist[i]] = i\n",
    "print(dic)    "
   ]
  },
  {
   "cell_type": "code",
   "execution_count": 9,
   "id": "c9e2a054-e766-4b01-9fcb-5bbd2147cc11",
   "metadata": {},
   "outputs": [
    {
     "name": "stdout",
     "output_type": "stream",
     "text": [
      "2 7 3\n",
      "7 2 1\n",
      "{1: 0, 2: 1, 4: 2, 7: 3, 11: 4, 19: 5}\n"
     ]
    }
   ],
   "source": [
    "mylist = [1,2,4,7,11,19]\n",
    "dic = {}\n",
    "target = 9\n",
    "for i in range(0,len(mylist)):\n",
    "    dic[mylist[i]] = i   # insert the key value\n",
    "for x in mylist:\n",
    "    if(target - x in dic):    # checking\n",
    "        print(x,target-x,dic[target-x])    \n",
    "print(dic)    # printing dictionary"
   ]
  },
  {
   "cell_type": "code",
   "execution_count": 12,
   "id": "9689aed5-1dc3-4c2d-9ca3-90e6ca8e6142",
   "metadata": {},
   "outputs": [
    {
     "name": "stdout",
     "output_type": "stream",
     "text": [
      "{1, 2, 3, 4, 5}\n"
     ]
    }
   ],
   "source": [
    "myset = {1,2,3,1,1,1,2,4,5}\n",
    "print(myset)"
   ]
  },
  {
   "cell_type": "code",
   "execution_count": 1,
   "id": "d92a6b3b-80c3-4566-af91-bb5ddda37711",
   "metadata": {},
   "outputs": [
    {
     "name": "stdout",
     "output_type": "stream",
     "text": [
      "{1, 2, 3, 4, 5}\n"
     ]
    },
    {
     "ename": "TypeError",
     "evalue": "'builtin_function_or_method' object is not subscriptable",
     "output_type": "error",
     "traceback": [
      "\u001b[31m---------------------------------------------------------------------------\u001b[39m",
      "\u001b[31mTypeError\u001b[39m                                 Traceback (most recent call last)",
      "\u001b[36mCell\u001b[39m\u001b[36m \u001b[39m\u001b[32mIn[1]\u001b[39m\u001b[32m, line 4\u001b[39m\n\u001b[32m      2\u001b[39m \u001b[38;5;28mprint\u001b[39m(myset)\n\u001b[32m      3\u001b[39m myset.add(\u001b[33m\"\u001b[39m\u001b[33mabc\u001b[39m\u001b[33m\"\u001b[39m)\n\u001b[32m----> \u001b[39m\u001b[32m4\u001b[39m \u001b[43mmyset\u001b[49m\u001b[43m.\u001b[49m\u001b[43mupdate\u001b[49m\u001b[43m[\u001b[49m\u001b[32;43m10\u001b[39;49m\u001b[43m,\u001b[49m\u001b[32;43m30\u001b[39;49m\u001b[43m,\u001b[49m\u001b[32;43m40\u001b[39;49m\u001b[43m]\u001b[49m\n\u001b[32m      5\u001b[39m myset.remove(\u001b[32m3\u001b[39m)\n\u001b[32m      6\u001b[39m \u001b[38;5;28mprint\u001b[39m(myset)\n",
      "\u001b[31mTypeError\u001b[39m: 'builtin_function_or_method' object is not subscriptable"
     ]
    }
   ],
   "source": [
    "myset = {1,2,3,1,1,1,2,4,5}\n",
    "print(myset)\n",
    "myset.add(\"abc\")\n",
    "myset.update[10,30,40]\n",
    "myset.remove(3)\n",
    "print(myset)"
   ]
  }
 ],
 "metadata": {
  "kernelspec": {
   "display_name": "Python 3 (ipykernel)",
   "language": "python",
   "name": "python3"
  },
  "language_info": {
   "codemirror_mode": {
    "name": "ipython",
    "version": 3
   },
   "file_extension": ".py",
   "mimetype": "text/x-python",
   "name": "python",
   "nbconvert_exporter": "python",
   "pygments_lexer": "ipython3",
   "version": "3.13.3"
  }
 },
 "nbformat": 4,
 "nbformat_minor": 5
}
