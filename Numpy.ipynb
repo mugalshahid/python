{
 "cells": [
  {
   "cell_type": "code",
   "execution_count": null,
   "id": "a270a97b-9f3a-4490-9d55-7b5d2d7704f8",
   "metadata": {},
   "outputs": [],
   "source": [
    "# Introduction to Numpy -----> \n",
    "# Numpy is an open-source library that is used for scintific calculations "
   ]
  },
  {
   "cell_type": "code",
   "execution_count": null,
   "id": "f41ec4d5-1838-42c9-822c-0c2b1295d962",
   "metadata": {},
   "outputs": [],
   "source": [
    "# How Numpy is btter than List ? \n",
    "# (1). Numpy is homogeneous  data type while list is hetrogenous data type \n",
    "# (2). Numpy takes less memory while list take more memory  \n",
    "# (3). Numpy take less execution time while List take more execution time"
   ]
  },
  {
   "cell_type": "code",
   "execution_count": null,
   "id": "d19f260a-c36a-461a-a490-1a89e7b9f62d",
   "metadata": {},
   "outputs": [],
   "source": [
    "!pip install numpy "
   ]
  },
  {
   "cell_type": "code",
   "execution_count": 1,
   "id": "b8125552-4402-4511-b7bd-6983b59551dc",
   "metadata": {},
   "outputs": [
    {
     "data": {
      "text/plain": [
       "array([ 1, 45, 78, 90])"
      ]
     },
     "execution_count": 1,
     "metadata": {},
     "output_type": "execute_result"
    }
   ],
   "source": [
    "import numpy as np \n",
    "\n",
    "a = [1,45,78,90]\n",
    "type(a) \n",
    "b = np.array(a) \n",
    "b"
   ]
  },
  {
   "cell_type": "code",
   "execution_count": 2,
   "id": "4fe681e2-f10e-43db-aabc-84cc74ba3bfc",
   "metadata": {},
   "outputs": [
    {
     "name": "stdin",
     "output_type": "stream",
     "text": [
      "Enter size: 4\n",
      "Enter element: 12\n",
      "Enter element: 34\n",
      "Enter element: 56\n",
      "Enter element: 15\n"
     ]
    },
    {
     "data": {
      "text/plain": [
       "array([12, 34, 56, 15])"
      ]
     },
     "execution_count": 2,
     "metadata": {},
     "output_type": "execute_result"
    }
   ],
   "source": [
    "a = [] \n",
    "size = int(input(\"Enter size:\"))\n",
    "for i in range(size):\n",
    "    val = int(input(\"Enter element:\"))\n",
    "    a.append(val) \n",
    "# print(a) \n",
    "b = np.array(a) \n",
    "b"
   ]
  },
  {
   "cell_type": "code",
   "execution_count": 3,
   "id": "219ca52a-64ba-4040-8fdf-924adbc04fe4",
   "metadata": {},
   "outputs": [
    {
     "data": {
      "text/plain": [
       "numpy.ndarray"
      ]
     },
     "execution_count": 3,
     "metadata": {},
     "output_type": "execute_result"
    }
   ],
   "source": [
    "type(b)"
   ]
  },
  {
   "cell_type": "code",
   "execution_count": 4,
   "id": "f3f06ecb-d7d3-484d-b6c2-dc964d51999f",
   "metadata": {},
   "outputs": [
    {
     "data": {
      "text/plain": [
       "[[1, 2, 3, 4], [4, 5, 6, 7], [7, 8, 9, 5]]"
      ]
     },
     "execution_count": 4,
     "metadata": {},
     "output_type": "execute_result"
    }
   ],
   "source": [
    "a = [[1,2,3,4],[4,5,6,7],[7,8,9,5]]\n",
    "a"
   ]
  },
  {
   "cell_type": "code",
   "execution_count": 5,
   "id": "b6fd2289-9189-45d6-b81a-7452efa76b9a",
   "metadata": {},
   "outputs": [
    {
     "data": {
      "text/plain": [
       "array([[1, 2, 3, 4],\n",
       "       [4, 5, 6, 7],\n",
       "       [7, 8, 9, 5]])"
      ]
     },
     "execution_count": 5,
     "metadata": {},
     "output_type": "execute_result"
    }
   ],
   "source": [
    "b = np.array(a) \n",
    "b"
   ]
  },
  {
   "cell_type": "code",
   "execution_count": 6,
   "id": "759319e4-6209-4848-b3a7-f1342fc85a2e",
   "metadata": {},
   "outputs": [
    {
     "name": "stdout",
     "output_type": "stream",
     "text": [
      "Total Rows and columns: (3, 4)\n",
      "Total Elements: 12\n",
      "Total Dimension: 2\n"
     ]
    }
   ],
   "source": [
    "print(\"Total Rows and columns:\" , b.shape)  ## shape = n(rows) , n(columns)\n",
    "print(\"Total Elements:\" , b.size)   ## size = total_elements = n(rows)*n(columns) \n",
    "print(\"Total Dimension:\" , b.ndim) ##ndim stands for n_dimensional "
   ]
  },
  {
   "cell_type": "code",
   "execution_count": null,
   "id": "f556ae32-cf67-4d0b-8ddd-08d2960a1039",
   "metadata": {},
   "outputs": [],
   "source": [
    "# Functions in Numpy\n",
    "\n",
    "# (1). zeros() ----> It will create an array in which all the values in either one dimensional or \n",
    "# multi-dimensional will be 0"
   ]
  },
  {
   "cell_type": "code",
   "execution_count": 7,
   "id": "415c489a-86f8-4ad0-8063-b7789ab0b103",
   "metadata": {},
   "outputs": [
    {
     "data": {
      "text/plain": [
       "array([0., 0., 0.])"
      ]
     },
     "execution_count": 7,
     "metadata": {},
     "output_type": "execute_result"
    }
   ],
   "source": [
    "a = np.zeros(3) \n",
    "a"
   ]
  },
  {
   "cell_type": "code",
   "execution_count": 8,
   "id": "d5d6fc0d-61e9-4997-8bdc-29a95a6dee5d",
   "metadata": {},
   "outputs": [
    {
     "data": {
      "text/plain": [
       "array([[0., 0., 0., 0.],\n",
       "       [0., 0., 0., 0.],\n",
       "       [0., 0., 0., 0.]])"
      ]
     },
     "execution_count": 8,
     "metadata": {},
     "output_type": "execute_result"
    }
   ],
   "source": [
    "a = np.zeros((3,4))\n",
    "a"
   ]
  },
  {
   "cell_type": "code",
   "execution_count": null,
   "id": "8337af28-0122-4ae1-bd4e-9f6bc4e6bca8",
   "metadata": {},
   "outputs": [],
   "source": [
    "# (2). ones() ----> It will crreate an array in which all the values will be 1 in either one \n",
    "# dimensional or multi-dimensional"
   ]
  },
  {
   "cell_type": "code",
   "execution_count": 9,
   "id": "6d1d2637-18cc-4a34-807e-5a245270c5e2",
   "metadata": {},
   "outputs": [
    {
     "data": {
      "text/plain": [
       "array([1., 1., 1.])"
      ]
     },
     "execution_count": 9,
     "metadata": {},
     "output_type": "execute_result"
    }
   ],
   "source": [
    "a = np.ones(3) \n",
    "a"
   ]
  },
  {
   "cell_type": "code",
   "execution_count": 10,
   "id": "94d25bdb-572b-4db0-a825-ec4ba13ffee8",
   "metadata": {},
   "outputs": [
    {
     "data": {
      "text/plain": [
       "array([[1., 1., 1., 1.],\n",
       "       [1., 1., 1., 1.],\n",
       "       [1., 1., 1., 1.]])"
      ]
     },
     "execution_count": 10,
     "metadata": {},
     "output_type": "execute_result"
    }
   ],
   "source": [
    "a = np.ones((3,4))\n",
    "a"
   ]
  },
  {
   "cell_type": "code",
   "execution_count": null,
   "id": "d8d6edba-6b04-4f63-bea7-8071642f11fc",
   "metadata": {},
   "outputs": [],
   "source": [
    "# (3). eye() -----> \n",
    "# Matrix ---> digonal Position ---> 1 \n",
    "# It will create an array in which digonal positinoal elements will be 1 and rest all are 0"
   ]
  },
  {
   "cell_type": "code",
   "execution_count": 11,
   "id": "a1afdb1f-79e8-474c-9466-4eb1ee03820e",
   "metadata": {},
   "outputs": [
    {
     "data": {
      "text/plain": [
       "array([[1., 0., 0.],\n",
       "       [0., 1., 0.],\n",
       "       [0., 0., 1.]])"
      ]
     },
     "execution_count": 11,
     "metadata": {},
     "output_type": "execute_result"
    }
   ],
   "source": [
    "a = np.eye(3) \n",
    "a"
   ]
  },
  {
   "cell_type": "code",
   "execution_count": 12,
   "id": "bc25877d-a1ca-48c2-8400-e7b9110d95bf",
   "metadata": {},
   "outputs": [
    {
     "data": {
      "text/plain": [
       "array([[1., 0., 0., 0.],\n",
       "       [0., 1., 0., 0.],\n",
       "       [0., 0., 1., 0.]])"
      ]
     },
     "execution_count": 12,
     "metadata": {},
     "output_type": "execute_result"
    }
   ],
   "source": [
    "a = np.eye(3,4)\n",
    "a"
   ]
  },
  {
   "cell_type": "code",
   "execution_count": null,
   "id": "675742eb-1f55-4393-a6e5-a26c1c5747b8",
   "metadata": {},
   "outputs": [],
   "source": [
    "# (4). diag() ----> It will create an array in which you can set custom values at digonal position"
   ]
  },
  {
   "cell_type": "code",
   "execution_count": 13,
   "id": "398cbec8-a060-4d0d-85fb-5db8d4544be7",
   "metadata": {},
   "outputs": [
    {
     "data": {
      "text/plain": [
       "array([[ 1,  0,  0,  0],\n",
       "       [ 0, 45,  0,  0],\n",
       "       [ 0,  0, 78,  0],\n",
       "       [ 0,  0,  0, 90]])"
      ]
     },
     "execution_count": 13,
     "metadata": {},
     "output_type": "execute_result"
    }
   ],
   "source": [
    "a = np.diag([1,45,78,90])\n",
    "a"
   ]
  },
  {
   "cell_type": "code",
   "execution_count": null,
   "id": "42b96b54-cb6a-4f0f-96d2-bc73862c156d",
   "metadata": {},
   "outputs": [],
   "source": [
    "# (5). Random Module ----> It will return random numbers"
   ]
  },
  {
   "cell_type": "code",
   "execution_count": null,
   "id": "5baf918b-8fb6-4ab2-9ac5-512999bdeaa8",
   "metadata": {},
   "outputs": [],
   "source": [
    "# (a). Randint() ----> It will return random numbers in a given range\n",
    "# syntax: \n",
    "# np.random.randint(min_number ,max_number , total_numbers)"
   ]
  },
  {
   "cell_type": "code",
   "execution_count": 15,
   "id": "065387b3-bae9-446c-931e-c8a74c6030b5",
   "metadata": {},
   "outputs": [
    {
     "data": {
      "text/plain": [
       "array([4, 7, 8], dtype=int32)"
      ]
     },
     "execution_count": 15,
     "metadata": {},
     "output_type": "execute_result"
    }
   ],
   "source": [
    "a = np.random.randint(1,10,3)\n",
    "a"
   ]
  },
  {
   "cell_type": "code",
   "execution_count": null,
   "id": "6fdf61d2-fd3b-45c4-84e8-57dcac98c579",
   "metadata": {},
   "outputs": [],
   "source": [
    "# (b). rand() ---> It will provide random numbers in range of 0 to 1 "
   ]
  },
  {
   "cell_type": "code",
   "execution_count": 16,
   "id": "fe009052-0188-46d4-8b2b-9e60fa368c1f",
   "metadata": {},
   "outputs": [
    {
     "data": {
      "text/plain": [
       "array([0.74401908, 0.75028839, 0.14930691, 0.97401399])"
      ]
     },
     "execution_count": 16,
     "metadata": {},
     "output_type": "execute_result"
    }
   ],
   "source": [
    "a = np.random.rand(4)\n",
    "a"
   ]
  },
  {
   "cell_type": "code",
   "execution_count": null,
   "id": "8cfdb508-a6ea-4d1c-a4e9-d8d281576e68",
   "metadata": {},
   "outputs": [],
   "source": [
    "# Random Numbers ---> data use ---> Output \n",
    "# if random numbers refresh update ---> previous output change"
   ]
  },
  {
   "cell_type": "code",
   "execution_count": 17,
   "id": "fe6cc263-3fc8-41d3-af71-274adafb584c",
   "metadata": {},
   "outputs": [
    {
     "data": {
      "text/plain": [
       "array([9, 6, 6], dtype=int32)"
      ]
     },
     "execution_count": 17,
     "metadata": {},
     "output_type": "execute_result"
    }
   ],
   "source": [
    "# (c). seed() ----> It will fix our random generated data \n",
    "\n",
    "np.random.seed(15) \n",
    "a = np.random.randint(1,10,3)\n",
    "a"
   ]
  },
  {
   "cell_type": "code",
   "execution_count": null,
   "id": "b2d6234c-5f15-4ed6-8c0e-141c0d86f5dd",
   "metadata": {},
   "outputs": [],
   "source": [
    "# View and Copy\n",
    "\n",
    "# view means modification in original data and copy means modification in duplicate data"
   ]
  },
  {
   "cell_type": "code",
   "execution_count": 18,
   "id": "d2ddb307-6626-47bf-95ee-5f67ed8c2c4d",
   "metadata": {},
   "outputs": [
    {
     "data": {
      "text/plain": [
       "array([10, 20, 30, 40, 50, 60, 70, 80, 90])"
      ]
     },
     "execution_count": 18,
     "metadata": {},
     "output_type": "execute_result"
    }
   ],
   "source": [
    "a = np.array([10,20,30,40,50,60,70,80,90])\n",
    "a"
   ]
  },
  {
   "cell_type": "code",
   "execution_count": 19,
   "id": "4072809c-5093-49b2-a0ed-0ad8a3424e8a",
   "metadata": {},
   "outputs": [
    {
     "data": {
      "text/plain": [
       "array([0, 0, 0])"
      ]
     },
     "execution_count": 19,
     "metadata": {},
     "output_type": "execute_result"
    }
   ],
   "source": [
    "b = a[3:6]\n",
    "b[:] = 0\n",
    "b"
   ]
  },
  {
   "cell_type": "code",
   "execution_count": 20,
   "id": "369a7e78-4b64-460c-9950-026da19677e1",
   "metadata": {},
   "outputs": [
    {
     "data": {
      "text/plain": [
       "array([10, 20, 30,  0,  0,  0, 70, 80, 90])"
      ]
     },
     "execution_count": 20,
     "metadata": {},
     "output_type": "execute_result"
    }
   ],
   "source": [
    "a"
   ]
  },
  {
   "cell_type": "code",
   "execution_count": 21,
   "id": "db024440-3856-4d56-bfff-aa51c24e6e5f",
   "metadata": {},
   "outputs": [
    {
     "data": {
      "text/plain": [
       "array([0, 0, 0])"
      ]
     },
     "execution_count": 21,
     "metadata": {},
     "output_type": "execute_result"
    }
   ],
   "source": [
    "a = np.array([10,20,30,40,50,60,70,80,90])\n",
    "b = a[3:6].copy()\n",
    "b[:] = 0\n",
    "b"
   ]
  },
  {
   "cell_type": "code",
   "execution_count": 23,
   "id": "856c1363-1c29-4fb0-92fc-1668f45f1ced",
   "metadata": {},
   "outputs": [
    {
     "data": {
      "text/plain": [
       "array([10, 20, 30, 40, 50, 60, 70, 80, 90])"
      ]
     },
     "execution_count": 23,
     "metadata": {},
     "output_type": "execute_result"
    }
   ],
   "source": [
    "a"
   ]
  },
  {
   "cell_type": "code",
   "execution_count": null,
   "id": "f4bfcdf1-c4ba-4e08-a7d2-ebbb89baa8a7",
   "metadata": {},
   "outputs": [],
   "source": []
  }
 ],
 "metadata": {
  "kernelspec": {
   "display_name": "Python 3 (ipykernel)",
   "language": "python",
   "name": "python3"
  },
  "language_info": {
   "codemirror_mode": {
    "name": "ipython",
    "version": 3
   },
   "file_extension": ".py",
   "mimetype": "text/x-python",
   "name": "python",
   "nbconvert_exporter": "python",
   "pygments_lexer": "ipython3",
   "version": "3.13.3"
  }
 },
 "nbformat": 4,
 "nbformat_minor": 5
}
