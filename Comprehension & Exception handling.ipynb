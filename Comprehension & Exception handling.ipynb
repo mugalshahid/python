{
 "cells": [
  {
   "cell_type": "code",
   "execution_count": null,
   "id": "f6c35198-bfd2-496f-bd37-9221d8459841",
   "metadata": {},
   "outputs": [],
   "source": [
    "# list comprehension\n",
    " => it is a concise way to create lists\n",
    " => they are more readable and efficient than traditional for loop "
   ]
  },
  {
   "cell_type": "code",
   "execution_count": 4,
   "id": "b64be4f0-dc5d-4740-bdf5-410c648122a6",
   "metadata": {},
   "outputs": [
    {
     "name": "stdout",
     "output_type": "stream",
     "text": [
      "[1, 4, 9, 16, 25]\n"
     ]
    }
   ],
   "source": [
    "S = [x**2 for x in range(1,6)]\n",
    "print(S)"
   ]
  },
  {
   "cell_type": "code",
   "execution_count": 1,
   "id": "50192c92-7971-4f27-a42d-308789378866",
   "metadata": {},
   "outputs": [
    {
     "name": "stdout",
     "output_type": "stream",
     "text": [
      "[0, 2, 4, 6, 8]\n"
     ]
    }
   ],
   "source": [
    "even = [x for x in range(10) if x%2==0]\n",
    "print(even)"
   ]
  },
  {
   "cell_type": "code",
   "execution_count": 2,
   "id": "c7119040-5fd9-4af5-a708-91df650e80a4",
   "metadata": {},
   "outputs": [
    {
     "name": "stdout",
     "output_type": "stream",
     "text": [
      "['SAM', 'SHAHID', 'KARAN']\n"
     ]
    }
   ],
   "source": [
    "names = [\"sam\",\"shahid\",\"karan\"]\n",
    "upper_names = [name.upper() for name in names]\n",
    "print(upper_names)"
   ]
  },
  {
   "cell_type": "code",
   "execution_count": 3,
   "id": "99ad3c35-f317-4f21-9ff2-c22d53e54cef",
   "metadata": {},
   "outputs": [
    {
     "name": "stdout",
     "output_type": "stream",
     "text": [
      "[1, 2, 3, 4, 5, 6]\n"
     ]
    }
   ],
   "source": [
    "A = [[1,2],[3,4],[5,6]]\n",
    "flattened = [num for sublist in A for num in sublist]\n",
    "print(flattened)"
   ]
  },
  {
   "cell_type": "code",
   "execution_count": 5,
   "id": "3b760385-b079-40dc-af74-059aed386400",
   "metadata": {},
   "outputs": [
    {
     "name": "stdout",
     "output_type": "stream",
     "text": [
      "[(0, 0), (0, 1), (1, 0), (1, 1), (2, 0), (2, 1)]\n"
     ]
    }
   ],
   "source": [
    "P = [(x,y) for x in range(3) for y in range(2)]\n",
    "print(P)"
   ]
  },
  {
   "cell_type": "code",
   "execution_count": 6,
   "id": "ec19b9aa-78be-4edc-b63a-e4e4bd331528",
   "metadata": {},
   "outputs": [
    {
     "name": "stdout",
     "output_type": "stream",
     "text": [
      "{1: 1, 2: 4, 3: 9, 4: 16, 5: 25, 6: 36}\n"
     ]
    }
   ],
   "source": [
    "# dictionary comprehension\n",
    "\n",
    "S_dic = {x: x**2 for x in range(1,7)}\n",
    "print(S_dic)"
   ]
  },
  {
   "cell_type": "code",
   "execution_count": 7,
   "id": "fa05ddde-27c1-4496-b325-adbbd4f893da",
   "metadata": {},
   "outputs": [
    {
     "name": "stdout",
     "output_type": "stream",
     "text": [
      "{0: 0, 2: 4, 4: 16, 6: 36, 8: 64}\n"
     ]
    }
   ],
   "source": [
    "even = {x: x**2 for x in range(10) if x%2==0}\n",
    "print(even)"
   ]
  },
  {
   "cell_type": "code",
   "execution_count": 8,
   "id": "6bf996b9-4f00-4b34-b4e7-f9ee97a42f59",
   "metadata": {},
   "outputs": [
    {
     "name": "stdout",
     "output_type": "stream",
     "text": [
      "{1: 1, 3: 9, 5: 25, 7: 49, 9: 81}\n"
     ]
    }
   ],
   "source": [
    "odd = {x: x**2 for x in range(10) if x%2!=0}\n",
    "print(odd)"
   ]
  },
  {
   "cell_type": "code",
   "execution_count": 10,
   "id": "f2778bb1-4c1f-4a04-9331-fc2cd1a6e5df",
   "metadata": {},
   "outputs": [
    {
     "name": "stdout",
     "output_type": "stream",
     "text": [
      "{1: 'a', 3: 'b', 4: 'c'}\n"
     ]
    }
   ],
   "source": [
    "a = {'a': 1, 'b':3, 'c': 4}\n",
    "r_dic = {v: k for k, v in a.items()}\n",
    "print(r_dic)"
   ]
  },
  {
   "cell_type": "code",
   "execution_count": 11,
   "id": "08758ed2-80db-4b5a-ab10-8798252f3329",
   "metadata": {},
   "outputs": [
    {
     "name": "stdout",
     "output_type": "stream",
     "text": [
      "{'banana': 6, 'apple': 5, 'cherry': 6}\n"
     ]
    }
   ],
   "source": [
    "a = [\"banana\",\"apple\",\"cherry\"]\n",
    "len_dic = {word: len(word) for word in a}\n",
    "print(len_dic)"
   ]
  },
  {
   "cell_type": "code",
   "execution_count": 13,
   "id": "6ce2c1e5-d245-40f6-add6-2cb5ad1cfd8a",
   "metadata": {},
   "outputs": [
    {
     "name": "stdout",
     "output_type": "stream",
     "text": [
      "{1, 4, 36, 9, 16, 25}\n"
     ]
    }
   ],
   "source": [
    "# set comprehension\n",
    "\n",
    "a = {x**2 for x in range(1,7)}\n",
    "print(a)"
   ]
  },
  {
   "cell_type": "code",
   "execution_count": 14,
   "id": "07dd851d-367b-483c-8cbb-ff418544d5fe",
   "metadata": {},
   "outputs": [
    {
     "name": "stdout",
     "output_type": "stream",
     "text": [
      "{0, 2, 4, 6, 8, 10, 12, 14}\n"
     ]
    }
   ],
   "source": [
    "n = {x for x in range(15) if x%2==0}\n",
    "print(n)"
   ]
  },
  {
   "cell_type": "code",
   "execution_count": null,
   "id": "090a4feb-154e-4453-aad2-2a4fefcad3e9",
   "metadata": {},
   "outputs": [],
   "source": [
    "# Exceptional handling\n",
    "  # try => write our logic or program\n",
    "\n",
    "  # except => if the programs fails then it will return statement"
   ]
  },
  {
   "cell_type": "code",
   "execution_count": 18,
   "id": "aa8b34ea-547c-4025-9ee7-c4e5f866e572",
   "metadata": {},
   "outputs": [
    {
     "name": "stdin",
     "output_type": "stream",
     "text": [
      "Enter number 45\n"
     ]
    },
    {
     "name": "stdout",
     "output_type": "stream",
     "text": [
      "45\n"
     ]
    }
   ],
   "source": [
    "try:\n",
    "    n = int(input(\"Enter number\"))\n",
    "    print(n)\n",
    "except ValueError as e:\n",
    "    print(\"you can't \",e)"
   ]
  },
  {
   "cell_type": "code",
   "execution_count": 29,
   "id": "e1a20462-1c7f-4d87-8270-85ae2ff99b19",
   "metadata": {},
   "outputs": [
    {
     "name": "stdout",
     "output_type": "stream",
     "text": [
      "cannot divide characters and zero.. division by zero\n"
     ]
    }
   ],
   "source": [
    "try:\n",
    "    a = 6\n",
    "    b = a/0\n",
    "    print(b)\n",
    "except Exception as e:\n",
    "    print(\"cannot divide characters and zero..\",e)"
   ]
  },
  {
   "cell_type": "code",
   "execution_count": 24,
   "id": "b816cca7-02a2-4d93-ab19-0cb707f63298",
   "metadata": {},
   "outputs": [
    {
     "name": "stdout",
     "output_type": "stream",
     "text": [
      "Caught a KeyError: 'roll'\n"
     ]
    }
   ],
   "source": [
    "try:\n",
    "    data = {\"name\": \"Alice\" , \"subject\":\"maths\"}\n",
    "    print(data[\"roll\"])  \n",
    "except KeyError as e:\n",
    "        print(\"Caught a KeyError:\", e)"
   ]
  },
  {
   "cell_type": "code",
   "execution_count": 22,
   "id": "2fdcda5f-ac45-49ef-90d5-fc12b8e458bf",
   "metadata": {},
   "outputs": [
    {
     "name": "stdout",
     "output_type": "stream",
     "text": [
      "caught an IndexError: list index out of range\n"
     ]
    }
   ],
   "source": [
    "try:\n",
    "    my_list = [1,2,3]\n",
    "    print(my_list[8])\n",
    "except IndexError as e:\n",
    "    print(\"caught an IndexError:\",e)"
   ]
  },
  {
   "cell_type": "code",
   "execution_count": 25,
   "id": "60b9040a-4f24-42d8-85f1-230c57292d47",
   "metadata": {},
   "outputs": [
    {
     "name": "stdout",
     "output_type": "stream",
     "text": [
      "caught  a FileNotFound: [Errno 2] No such file or directory: 'non_existent_file.txt'\n"
     ]
    }
   ],
   "source": [
    "try:\n",
    "    with open (\"non_existent_file.txt\") as file:\n",
    "        content = file.read()\n",
    "except FileNotFoundError as e:\n",
    "    print(\"caught  a FileNotFound:\",e)"
   ]
  }
 ],
 "metadata": {
  "kernelspec": {
   "display_name": "Python 3 (ipykernel)",
   "language": "python",
   "name": "python3"
  },
  "language_info": {
   "codemirror_mode": {
    "name": "ipython",
    "version": 3
   },
   "file_extension": ".py",
   "mimetype": "text/x-python",
   "name": "python",
   "nbconvert_exporter": "python",
   "pygments_lexer": "ipython3",
   "version": "3.13.3"
  }
 },
 "nbformat": 4,
 "nbformat_minor": 5
}
