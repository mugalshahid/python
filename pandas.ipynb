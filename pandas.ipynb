{
 "cells": [
  {
   "cell_type": "code",
   "execution_count": null,
   "id": "fa72c424-f27f-437d-bfc9-37a001a803ca",
   "metadata": {},
   "outputs": [],
   "source": [
    "\n",
    "\n",
    "# Pandas \n",
    "\n",
    "Pandas is an open-source library that is used for handle data manipulations . \n",
    "\n",
    "import pandas as pd \n",
    "\n",
    "# Data Structure of Pandas : \n",
    "# (1). Series  ----> 1-Dimensional array and it contains only values . \n",
    "# (2). DataFrame ----> Multi-Dimensional array and it contains values with column name . \n",
    "\n",
    "# Series\n",
    "\n",
    "a = pd.Series([1,45,78,90])\n",
    "a\n",
    "\n",
    "type(a) \n",
    "\n",
    "# DataFrame\n",
    "\n",
    "a = {\n",
    "    \"Emp_ID\":[1,2,3,4,5],\n",
    "    \"Emp_Name\":['Sam' , 'Raj', 'Mohit' , 'Aniket' , 'Pallavi'],\n",
    "    \"Domain\": ['IT' , 'Sales' , 'IT' , 'IT' , 'Sales'],\n",
    "    \"Working_hours\": [9,8,8,9,9],\n",
    "    \"Salary\" : [23000,25000,31000,36000,40000]\n",
    "}\n",
    "\n",
    "df = pd.DataFrame(a) \n",
    "# df\n",
    "\n",
    "type(df) \n",
    "\n",
    "# df\n",
    "\n",
    "df.to_csv(\"C:\\\\Users\\\\saurabh\\\\Desktop\\\\dat\\\\emp_data.csv\")\n",
    "\n",
    "df.to_csv(\"C:\\\\Users\\\\saurabh\\\\Desktop\\\\dat\\\\emp_data.csv\" , index=False)\n",
    "\n",
    "# Import data\n",
    "\n",
    "df = pd.read_csv(\"C:\\\\Users\\\\saurabh\\\\Desktop\\\\dat\\\\emp_data.csv\")\n",
    "\n",
    "df\n",
    "\n"
   ]
  },
  {
   "cell_type": "code",
   "execution_count": null,
   "id": "b39513ca-4ca5-42cf-9a04-5a5283fb30f4",
   "metadata": {},
   "outputs": [],
   "source": [
    "# Pandas \n",
    "\n",
    "Pandas is an open-source library that is used for handle data manipulations . "
   ]
  },
  {
   "cell_type": "code",
   "execution_count": 1,
   "id": "6af2ef8d-9fc4-4d63-ba9f-0aed62d0f519",
   "metadata": {},
   "outputs": [],
   "source": [
    "import pandas as pd "
   ]
  },
  {
   "cell_type": "code",
   "execution_count": null,
   "id": "b3a225c9-c1ae-4366-86d3-dc1c11a566d7",
   "metadata": {},
   "outputs": [],
   "source": [
    "# Data Structure of Pandas : \n",
    "# (1). Series  ----> 1-Dimensional array and it contains only values . \n",
    "# (2). DataFrame ----> Multi-Dimensional array and it contains values with column name"
   ]
  },
  {
   "cell_type": "code",
   "execution_count": 2,
   "id": "3e4f9acc-aeab-4d7d-bcfc-cafb55c47b61",
   "metadata": {},
   "outputs": [
    {
     "data": {
      "text/plain": [
       "0     1\n",
       "1    45\n",
       "2    78\n",
       "3    90\n",
       "dtype: int64"
      ]
     },
     "execution_count": 2,
     "metadata": {},
     "output_type": "execute_result"
    }
   ],
   "source": [
    "# Series\n",
    "\n",
    "a = pd.Series([1,45,78,90])\n",
    "a"
   ]
  },
  {
   "cell_type": "code",
   "execution_count": 3,
   "id": "a9af5517-8326-4ba2-8da6-8432d1b3cf56",
   "metadata": {},
   "outputs": [
    {
     "data": {
      "text/plain": [
       "pandas.core.series.Series"
      ]
     },
     "execution_count": 3,
     "metadata": {},
     "output_type": "execute_result"
    }
   ],
   "source": [
    "type(a)"
   ]
  },
  {
   "cell_type": "code",
   "execution_count": 4,
   "id": "fbe6979c-e1e4-40f4-8de3-e1470bd4c76f",
   "metadata": {},
   "outputs": [],
   "source": [
    "# DataFrame\n",
    "\n",
    "a = {\n",
    "    \"Emp_ID\":[1,2,3,4,5],\n",
    "    \"Emp_Name\":['Sam' , 'Raj', 'Mohit' , 'Aniket' , 'Pallavi'],\n",
    "    \"Domain\": ['IT' , 'Sales' , 'IT' , 'IT' , 'Sales'],\n",
    "    \"Working_hours\": [9,8,8,9,9],\n",
    "    \"Salary\" : [23000,25000,31000,36000,40000]\n",
    "}\n",
    "df = pd.DataFrame(a)"
   ]
  },
  {
   "cell_type": "code",
   "execution_count": 5,
   "id": "b94ac540-0353-4267-8a0a-9b3a2695ff5c",
   "metadata": {},
   "outputs": [
    {
     "data": {
      "text/plain": [
       "pandas.core.frame.DataFrame"
      ]
     },
     "execution_count": 5,
     "metadata": {},
     "output_type": "execute_result"
    }
   ],
   "source": [
    "type(df)"
   ]
  },
  {
   "cell_type": "code",
   "execution_count": null,
   "id": "400048a6-b9b6-44b2-a451-815bd894edee",
   "metadata": {},
   "outputs": [],
   "source": []
  },
  {
   "cell_type": "code",
   "execution_count": null,
   "id": "4cd6bce4-99d2-4c41-b3bb-0398b2efe389",
   "metadata": {},
   "outputs": [],
   "source": []
  }
 ],
 "metadata": {
  "kernelspec": {
   "display_name": "Python 3 (ipykernel)",
   "language": "python",
   "name": "python3"
  },
  "language_info": {
   "codemirror_mode": {
    "name": "ipython",
    "version": 3
   },
   "file_extension": ".py",
   "mimetype": "text/x-python",
   "name": "python",
   "nbconvert_exporter": "python",
   "pygments_lexer": "ipython3",
   "version": "3.13.3"
  }
 },
 "nbformat": 4,
 "nbformat_minor": 5
}
