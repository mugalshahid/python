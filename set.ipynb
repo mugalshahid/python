{
 "cells": [
  {
   "cell_type": "code",
   "execution_count": null,
   "id": "b6191cd0-a21a-49e8-8ebe-a997dcd487b8",
   "metadata": {},
   "outputs": [],
   "source": [
    "# set in python\n",
    " # 1. identification = {}\n",
    " # 2. mutable data type..> we can change or update value at a run time\n",
    " # 3. unordered , unindexed and it contains only unique value"
   ]
  },
  {
   "cell_type": "code",
   "execution_count": 2,
   "id": "3ae8d0bc-a155-46e0-b232-3158876e8618",
   "metadata": {},
   "outputs": [
    {
     "data": {
      "text/plain": [
       "{1, 2, 3, 4}"
      ]
     },
     "execution_count": 2,
     "metadata": {},
     "output_type": "execute_result"
    }
   ],
   "source": [
    "a = {1,2,3,3,2,4}\n",
    "a"
   ]
  },
  {
   "cell_type": "code",
   "execution_count": 4,
   "id": "c95fa402-5b1a-4f2f-b844-e0e5744fc469",
   "metadata": {},
   "outputs": [
    {
     "data": {
      "text/plain": [
       "{1, 2, 3, 4, 55}"
      ]
     },
     "execution_count": 4,
     "metadata": {},
     "output_type": "execute_result"
    }
   ],
   "source": [
    "a.add(55)\n",
    "a"
   ]
  },
  {
   "cell_type": "code",
   "execution_count": 1,
   "id": "d67cd279-3c5e-4b8f-8351-d4af5cdb0c81",
   "metadata": {},
   "outputs": [
    {
     "name": "stdout",
     "output_type": "stream",
     "text": [
      "345\n",
      "67\n",
      "9\n"
     ]
    }
   ],
   "source": [
    "# loop in sets\n",
    "a = {345,67,9}\n",
    "for i in a:\n",
    "    print(i)"
   ]
  },
  {
   "cell_type": "code",
   "execution_count": 10,
   "id": "294d03b9-44b5-4bc5-ac74-c3330bef9f79",
   "metadata": {},
   "outputs": [
    {
     "data": {
      "text/plain": [
       "{1, 2, 3, 4, 5, 6}"
      ]
     },
     "execution_count": 10,
     "metadata": {},
     "output_type": "execute_result"
    }
   ],
   "source": [
    "a = {1,2,3,4}\n",
    "b = {3,4,5,6}\n",
    "c = a.union(b)\n",
    "c"
   ]
  },
  {
   "cell_type": "code",
   "execution_count": 11,
   "id": "dbc02be6-d961-46ee-bf72-893a744673d8",
   "metadata": {},
   "outputs": [
    {
     "data": {
      "text/plain": [
       "{1, 2, 3, 4, 5, 6}"
      ]
     },
     "execution_count": 11,
     "metadata": {},
     "output_type": "execute_result"
    }
   ],
   "source": [
    "d = a|b\n",
    "d"
   ]
  },
  {
   "cell_type": "code",
   "execution_count": 12,
   "id": "8ca01b75-0d9d-4ffc-87b7-9b4b37d7af74",
   "metadata": {},
   "outputs": [
    {
     "data": {
      "text/plain": [
       "{3, 4}"
      ]
     },
     "execution_count": 12,
     "metadata": {},
     "output_type": "execute_result"
    }
   ],
   "source": [
    "# intersection\n",
    "\n",
    "a = {1,2,3,4}\n",
    "b = {3,4,5,6}\n",
    "c = a.intersection(b)\n",
    "c"
   ]
  },
  {
   "cell_type": "code",
   "execution_count": 13,
   "id": "537f9333-7b87-4ae5-a668-c33e5b3e7b2b",
   "metadata": {},
   "outputs": [
    {
     "data": {
      "text/plain": [
       "{3, 4}"
      ]
     },
     "execution_count": 13,
     "metadata": {},
     "output_type": "execute_result"
    }
   ],
   "source": [
    "d = a&b\n",
    "d"
   ]
  },
  {
   "cell_type": "code",
   "execution_count": 14,
   "id": "06d5a3bd-d08c-4eff-9ffe-3e361658b9b0",
   "metadata": {},
   "outputs": [
    {
     "data": {
      "text/plain": [
       "{1, 2}"
      ]
     },
     "execution_count": 14,
     "metadata": {},
     "output_type": "execute_result"
    }
   ],
   "source": [
    "a-b  ### it will return only set a value removing common elements\n"
   ]
  },
  {
   "cell_type": "code",
   "execution_count": 15,
   "id": "5796c180-6bef-406a-a51b-e08d1836f857",
   "metadata": {},
   "outputs": [
    {
     "data": {
      "text/plain": [
       "{5, 6}"
      ]
     },
     "execution_count": 15,
     "metadata": {},
     "output_type": "execute_result"
    }
   ],
   "source": [
    "b-a  ### it will return only set b value removing common elements"
   ]
  },
  {
   "cell_type": "code",
   "execution_count": 16,
   "id": "eeff84a7-abe6-4127-b285-e11320a2ef0a",
   "metadata": {},
   "outputs": [
    {
     "data": {
      "text/plain": [
       "set()"
      ]
     },
     "execution_count": 16,
     "metadata": {},
     "output_type": "execute_result"
    }
   ],
   "source": [
    "a = {1,2,3,4}\n",
    "a.clear()\n",
    "a"
   ]
  },
  {
   "cell_type": "code",
   "execution_count": null,
   "id": "856d708e-a442-4efd-866d-e9d1837ecb76",
   "metadata": {},
   "outputs": [],
   "source": [
    "# given a list of num, removes al duplicate values and return the unique"
   ]
  },
  {
   "cell_type": "code",
   "execution_count": null,
   "id": "0e6ff730-0e50-4643-98bd-1ad899947511",
   "metadata": {},
   "outputs": [],
   "source": [
    "a = []\n",
    "size = int(input(\"enter the size\"))\n",
    "for i in range(size):\n",
    "    val = int(input(\"enter the item\"))\n",
    "    a.append(val)\n",
    "print(a)"
   ]
  },
  {
   "cell_type": "code",
   "execution_count": 17,
   "id": "3fb5e095-03af-4f2a-b9dd-0b03d538ed56",
   "metadata": {},
   "outputs": [
    {
     "data": {
      "text/plain": [
       "{1, 2, 5, 6}"
      ]
     },
     "execution_count": 17,
     "metadata": {},
     "output_type": "execute_result"
    }
   ],
   "source": [
    "# Q.Given two sets , find elements that are unique to each set\n",
    "\n",
    "a = {1,2,3,4}\n",
    "b = {3,4,5,6}\n",
    "a^b"
   ]
  },
  {
   "cell_type": "code",
   "execution_count": 18,
   "id": "05019817-6aef-45d9-af21-a4e7fbb720f6",
   "metadata": {},
   "outputs": [
    {
     "data": {
      "text/plain": [
       "{3, 4}"
      ]
     },
     "execution_count": 18,
     "metadata": {},
     "output_type": "execute_result"
    }
   ],
   "source": [
    "# Q. Given two sets , find the common values of \n",
    "a = {1,2,3,4}\n",
    "b = {3,4,5,6}\n",
    "a.intersection(b)"
   ]
  },
  {
   "cell_type": "code",
   "execution_count": 19,
   "id": "f1442ba3-e0b5-4065-9210-d566b0518def",
   "metadata": {},
   "outputs": [
    {
     "data": {
      "text/plain": [
       "False"
      ]
     },
     "execution_count": 19,
     "metadata": {},
     "output_type": "execute_result"
    }
   ],
   "source": [
    "# Q. Given two sets, check first set is subset of second set\n",
    "\n",
    "a = {1,2,3,4}\n",
    "b = {1,2}\n",
    "a.issubset(b)"
   ]
  },
  {
   "cell_type": "code",
   "execution_count": 22,
   "id": "cd7ea02d-4b6a-44fb-9093-2d7f05811e38",
   "metadata": {},
   "outputs": [
    {
     "data": {
      "text/plain": [
       "{1, 2, 3, 4, 5, 6, 7, 8}"
      ]
     },
     "execution_count": 22,
     "metadata": {},
     "output_type": "execute_result"
    }
   ],
   "source": [
    "# Q. Given sets, return a single set that contains all unique elements\n",
    "\n",
    "a = {1,2,3,4}\n",
    "b = {3,4,5,6}\n",
    "c = {5,6,7,8}\n",
    "d = a.union(b)\n",
    "e = d.union(c)\n",
    "e"
   ]
  }
 ],
 "metadata": {
  "kernelspec": {
   "display_name": "Python 3 (ipykernel)",
   "language": "python",
   "name": "python3"
  },
  "language_info": {
   "codemirror_mode": {
    "name": "ipython",
    "version": 3
   },
   "file_extension": ".py",
   "mimetype": "text/x-python",
   "name": "python",
   "nbconvert_exporter": "python",
   "pygments_lexer": "ipython3",
   "version": "3.13.3"
  }
 },
 "nbformat": 4,
 "nbformat_minor": 5
}
